{
 "cells": [
  {
   "cell_type": "markdown",
   "metadata": {},
   "source": [
    "## 不常用的语法\n",
    "- for...else\n",
    "- assert"
   ]
  },
  {
   "cell_type": "markdown",
   "metadata": {},
   "source": [
    "### assert断言语句\n",
    "```\n",
    "语法：     \n",
    "    assert 语句   \n",
    "    assert 语句, 异常信息       \n",
    "当语句为真时，无输出\n",
    "当语句为假时，抛出AssertionError异常及异常信息（如果有）       \n",
    "异常信息可以是任意数据类型\n",
    "```\n",
    "注意：当且仅当解释器是非优化条件运行时（默认非优化，__debug__: True）assert语句才会被执行     \n",
    "所以不要将assert语句用于数据检查尤其是安全检查！       "
   ]
  },
  {
   "cell_type": "code",
   "execution_count": 1,
   "metadata": {},
   "outputs": [
    {
     "data": {
      "text/plain": [
       "True"
      ]
     },
     "execution_count": 1,
     "metadata": {},
     "output_type": "execute_result"
    }
   ],
   "source": [
    "__debug__"
   ]
  },
  {
   "cell_type": "code",
   "execution_count": 2,
   "metadata": {},
   "outputs": [],
   "source": [
    "assert 2==2   #断言为真时，无输出"
   ]
  },
  {
   "cell_type": "code",
   "execution_count": 7,
   "metadata": {},
   "outputs": [
    {
     "ename": "AssertionError",
     "evalue": "",
     "output_type": "error",
     "traceback": [
      "\u001b[0;31m----------------------------------------------------------------\u001b[0m",
      "\u001b[0;31mAssertionError\u001b[0m                 Traceback (most recent call last)",
      "\u001b[0;32m<ipython-input-7-e0a1356a4571>\u001b[0m in \u001b[0;36m<module>\u001b[0;34m\u001b[0m\n\u001b[0;32m----> 1\u001b[0;31m \u001b[0;32massert\u001b[0m \u001b[0;36m2\u001b[0m\u001b[0;34m==\u001b[0m\u001b[0;36m3\u001b[0m   \u001b[0;31m#断言之后的语句为假时抛出AssertionError异常\u001b[0m\u001b[0;34m\u001b[0m\u001b[0m\n\u001b[0m",
      "\u001b[0;31mAssertionError\u001b[0m: "
     ]
    }
   ],
   "source": [
    "assert 2==3   #断言之后的语句为假时抛出AssertionError异常"
   ]
  },
  {
   "cell_type": "code",
   "execution_count": 19,
   "metadata": {},
   "outputs": [
    {
     "ename": "AssertionError",
     "evalue": "the 2 numbers are not the same",
     "output_type": "error",
     "traceback": [
      "\u001b[0;31m----------------------------------------------------------------\u001b[0m",
      "\u001b[0;31mAssertionError\u001b[0m                 Traceback (most recent call last)",
      "\u001b[0;32m<ipython-input-19-1fe5b6220fed>\u001b[0m in \u001b[0;36m<module>\u001b[0;34m\u001b[0m\n\u001b[0;32m----> 1\u001b[0;31m \u001b[0;32massert\u001b[0m \u001b[0;36m2\u001b[0m\u001b[0;34m==\u001b[0m\u001b[0;36m1\u001b[0m\u001b[0;34m,\u001b[0m \u001b[0;34m'the 2 numbers are not the same'\u001b[0m \u001b[0;31m#定义异常信息\u001b[0m\u001b[0;34m\u001b[0m\u001b[0m\n\u001b[0m",
      "\u001b[0;31mAssertionError\u001b[0m: the 2 numbers are not the same"
     ]
    }
   ],
   "source": [
    "assert 2==1, 'the 2 numbers are not the same' #定义异常信息"
   ]
  },
  {
   "cell_type": "code",
   "execution_count": 21,
   "metadata": {},
   "outputs": [
    {
     "ename": "AssertionError",
     "evalue": "('good', 'bad')",
     "output_type": "error",
     "traceback": [
      "\u001b[0;31m----------------------------------------------------------------\u001b[0m",
      "\u001b[0;31mAssertionError\u001b[0m                 Traceback (most recent call last)",
      "\u001b[0;32m<ipython-input-21-0cec0c5a807f>\u001b[0m in \u001b[0;36m<module>\u001b[0;34m\u001b[0m\n\u001b[0;32m----> 1\u001b[0;31m \u001b[0;32massert\u001b[0m \u001b[0;36m2\u001b[0m\u001b[0;34m==\u001b[0m\u001b[0;36m1\u001b[0m\u001b[0;34m,\u001b[0m \u001b[0;34m(\u001b[0m\u001b[0;34m'good'\u001b[0m\u001b[0;34m,\u001b[0m \u001b[0;34m'bad'\u001b[0m\u001b[0;34m)\u001b[0m\u001b[0;34m\u001b[0m\u001b[0m\n\u001b[0m",
      "\u001b[0;31mAssertionError\u001b[0m: ('good', 'bad')"
     ]
    }
   ],
   "source": [
    "assert 2==1, ('good', 'bad')"
   ]
  },
  {
   "cell_type": "code",
   "execution_count": 22,
   "metadata": {},
   "outputs": [
    {
     "ename": "AssertionError",
     "evalue": "9999",
     "output_type": "error",
     "traceback": [
      "\u001b[0;31m----------------------------------------------------------------\u001b[0m",
      "\u001b[0;31mAssertionError\u001b[0m                 Traceback (most recent call last)",
      "\u001b[0;32m<ipython-input-22-c18c0d878c5f>\u001b[0m in \u001b[0;36m<module>\u001b[0;34m\u001b[0m\n\u001b[0;32m----> 1\u001b[0;31m \u001b[0;32massert\u001b[0m \u001b[0;36m2\u001b[0m\u001b[0;34m==\u001b[0m\u001b[0;36m1\u001b[0m\u001b[0;34m,\u001b[0m \u001b[0;36m9999\u001b[0m\u001b[0;34m\u001b[0m\u001b[0m\n\u001b[0m",
      "\u001b[0;31mAssertionError\u001b[0m: 9999"
     ]
    }
   ],
   "source": [
    "assert 2==1, 9999"
   ]
  },
  {
   "cell_type": "code",
   "execution_count": 24,
   "metadata": {},
   "outputs": [
    {
     "ename": "AssertionError",
     "evalue": "{'hi': 89}",
     "output_type": "error",
     "traceback": [
      "\u001b[0;31m----------------------------------------------------------------\u001b[0m",
      "\u001b[0;31mAssertionError\u001b[0m                 Traceback (most recent call last)",
      "\u001b[0;32m<ipython-input-24-7f839b9ade94>\u001b[0m in \u001b[0;36m<module>\u001b[0;34m\u001b[0m\n\u001b[0;32m----> 1\u001b[0;31m \u001b[0;32massert\u001b[0m \u001b[0;36m2\u001b[0m\u001b[0;34m==\u001b[0m\u001b[0;36m1\u001b[0m\u001b[0;34m,\u001b[0m \u001b[0;34m{\u001b[0m\u001b[0;34m'hi'\u001b[0m\u001b[0;34m:\u001b[0m\u001b[0;36m89\u001b[0m\u001b[0;34m}\u001b[0m\u001b[0;34m\u001b[0m\u001b[0m\n\u001b[0m",
      "\u001b[0;31mAssertionError\u001b[0m: {'hi': 89}"
     ]
    }
   ],
   "source": [
    "assert 2==1, {'hi':89}"
   ]
  },
  {
   "cell_type": "code",
   "execution_count": 6,
   "metadata": {},
   "outputs": [
    {
     "ename": "SyntaxError",
     "evalue": "assignment to keyword (<ipython-input-6-ac4675a98060>, line 1)",
     "output_type": "error",
     "traceback": [
      "\u001b[0;36m  File \u001b[0;32m\"<ipython-input-6-ac4675a98060>\"\u001b[0;36m, line \u001b[0;32m1\u001b[0m\n\u001b[0;31m    __debug__ = False\u001b[0m\n\u001b[0m                     ^\u001b[0m\n\u001b[0;31mSyntaxError\u001b[0m\u001b[0;31m:\u001b[0m assignment to keyword\n"
     ]
    }
   ],
   "source": [
    "__debug__ = False   #__debug__实际是一个值，无法再被赋值"
   ]
  },
  {
   "cell_type": "code",
   "execution_count": 11,
   "metadata": {},
   "outputs": [
    {
     "ename": "AssertionError",
     "evalue": "",
     "output_type": "error",
     "traceback": [
      "\u001b[0;31m----------------------------------------------------------------\u001b[0m",
      "\u001b[0;31mAssertionError\u001b[0m                 Traceback (most recent call last)",
      "\u001b[0;32m<ipython-input-11-c23e63d70464>\u001b[0m in \u001b[0;36m<module>\u001b[0;34m\u001b[0m\n\u001b[0;32m----> 1\u001b[0;31m \u001b[0;32massert\u001b[0m \u001b[0;32mnot\u001b[0m \u001b[0;36m1\u001b[0m\u001b[0;34m\u001b[0m\u001b[0m\n\u001b[0m",
      "\u001b[0;31mAssertionError\u001b[0m: "
     ]
    }
   ],
   "source": [
    "assert not 1"
   ]
  },
  {
   "cell_type": "markdown",
   "metadata": {},
   "source": [
    "#### 注意避免被断言的语句写成非空tuple\n",
    "```\n",
    "> 如何避免？\n",
    "1、pyflask 检查脚本： $ pyflask xxx.py             \n",
    "2、egrep 检查脚本：$ egrep 'assert *\\(' xxx.py\n",
    "```"
   ]
  },
  {
   "cell_type": "code",
   "execution_count": 10,
   "metadata": {},
   "outputs": [
    {
     "name": "stderr",
     "output_type": "stream",
     "text": [
      "<>:1: SyntaxWarning: assertion is always true, perhaps remove parentheses?\n",
      "<>:1: SyntaxWarning: assertion is always true, perhaps remove parentheses?\n",
      "<>:1: SyntaxWarning: assertion is always true, perhaps remove parentheses?\n",
      "<ipython-input-10-c12a0a73bc12>:1: SyntaxWarning: assertion is always true, perhaps remove parentheses?\n",
      "  assert (not 1,)\n"
     ]
    }
   ],
   "source": [
    "assert (not 1,)   #当语句被括号包裹，且带一个逗号时，其实已经是一个非空tuple了"
   ]
  },
  {
   "cell_type": "markdown",
   "metadata": {},
   "source": [
    "#### 应用：处理/捕获“不易复现”的场景，用assert而不是自定义异常的好处是在生产环境可以略过不处理     \n",
    "```\n",
    "if condition1:\n",
    "    do_planA()\n",
    "elif condition2:\n",
    "    do_planB()\n",
    "else unexpected:\n",
    "    assert 0, (write some message)  #抛出断言异常\n",
    "```\n",
    "\n",
    "<img src='./imgs/assert_without_execution.png'>"
   ]
  },
  {
   "cell_type": "code",
   "execution_count": null,
   "metadata": {},
   "outputs": [],
   "source": []
  }
 ],
 "metadata": {
  "kernelspec": {
   "display_name": "Python 3",
   "language": "python",
   "name": "python3"
  },
  "language_info": {
   "codemirror_mode": {
    "name": "ipython",
    "version": 3
   },
   "file_extension": ".py",
   "mimetype": "text/x-python",
   "name": "python",
   "nbconvert_exporter": "python",
   "pygments_lexer": "ipython3",
   "version": "3.6.4"
  }
 },
 "nbformat": 4,
 "nbformat_minor": 2
}
